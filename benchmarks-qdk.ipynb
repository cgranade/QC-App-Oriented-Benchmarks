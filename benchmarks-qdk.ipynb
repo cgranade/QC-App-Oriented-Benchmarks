{
 "cells": [
  {
   "cell_type": "markdown",
   "source": [
    "### QED-C Prototype Benchmarks - Quantum Development Kit Version\r\n",
    "\r\n",
    "The notebook contains a suite of prototype application benchmarks developed using Q# and the Quantum Development Kit, for use with local simulation or Azure Quantum services.\r\n",
    "Configure and run the cell below with the desired execution settings.\r\n",
    "Then execute the remaining cells, each containing one prototype benchmark program."
   ],
   "metadata": {}
  },
  {
   "cell_type": "code",
   "execution_count": 1,
   "source": [
    "min_qubits = 2\r\n",
    "max_qubits = 8\r\n",
    "max_circuits = 3\r\n",
    "num_shots = 1000\r\n",
    "\r\n",
    "# backend_id = \"qasm_simulator\"\r\n",
    "# hub=\"ibm-q\"; group=\"open\"; project=\"main\"\r\n",
    "# provider_backend = None"
   ],
   "outputs": [],
   "metadata": {
    "scrolled": true
   }
  },
  {
   "cell_type": "code",
   "execution_count": 2,
   "source": [
    "# #%run deutsch-jozsa/qiskit/dj_benchmark.py\r\n",
    "# import sys\r\n",
    "# sys.path.insert(1, \"deutsch-jozsa/qiskit\")\r\n",
    "# import dj_benchmark\r\n",
    "# dj_benchmark.run(min_qubits=min_qubits, max_qubits=max_qubits, max_circuits=max_circuits, num_shots=num_shots,\r\n",
    "#                 backend_id=backend_id, provider_backend=provider_backend,\r\n",
    "#                 hub=hub, group=group, project=project)"
   ],
   "outputs": [],
   "metadata": {
    "scrolled": false
   }
  },
  {
   "cell_type": "code",
   "execution_count": 2,
   "source": [
    "#%run bernstein-vazirani/qdk/bv_benchmark.py\r\n",
    "import sys\r\n",
    "sys.path.insert(1, \"bernstein-vazirani/qdk\")\r\n",
    "import bv_benchmark\r\n",
    "bv_benchmark.run(\r\n",
    "    min_qubits=min_qubits, max_qubits=6,\r\n",
    "    n_shots=num_shots,\r\n",
    "    max_n_circuits=max_circuits\r\n",
    ")"
   ],
   "outputs": [
    {
     "output_type": "stream",
     "name": "stdout",
     "text": [
      "Adding reference to project: c:\\Users\\cgran\\source\\repos\\sri-international\\QC-App-Oriented-Benchmarks\\bernstein-vazirani\\qdk\\BvBenchmark.csproj\n"
     ]
    },
    {
     "output_type": "display_data",
     "data": {
      "text/plain": [
       "Reloading workspace."
      ],
      "application/x-qsharp-data": "{\"LastUpdated\":\"2021-10-08T21:47:10.0293808-07:00\",\"IsCompleted\":false,\"Description\":\"Reloading workspace\",\"Subtask\":null}"
     },
     "metadata": {}
    },
    {
     "output_type": "stream",
     "name": "stdout",
     "text": [
      "... execution starting at 2021-10-09 04:47:19\n",
      "n_qubits = 2, secret_number = 1, depth = 0, results = [0.128, 0.872, 0.0, 0.0]\n",
      "n_qubits = 2, secret_number = 0, depth = 0, results = [0.981, 0.019, 0.0, 0.0]\n",
      "n_qubits = 3, secret_number = 0, depth = 0, results = [0.974, 0.013, 0.013, 0.0, 0.0, 0.0, 0.0, 0.0]\n",
      "n_qubits = 3, secret_number = 2, depth = 0, results = [0.135, 0.001, 0.853, 0.011, 0.0, 0.0, 0.0, 0.0]\n",
      "n_qubits = 3, secret_number = 1, depth = 0, results = [0.122, 0.864, 0.001, 0.013, 0.0, 0.0, 0.0, 0.0]\n",
      "n_qubits = 4, secret_number = 1, depth = 0, results = [0.118, 0.846, 0.002, 0.011, 0.003, 0.02, 0.0, 0.0, 0.0, 0.0, 0.0, 0.0, 0.0, 0.0, 0.0, 0.0]\n",
      "n_qubits = 4, secret_number = 5, depth = 0, results = [0.045, 0.107, 0.0, 0.0, 0.077, 0.755, 0.001, 0.015, 0.0, 0.0, 0.0, 0.0, 0.0, 0.0, 0.0, 0.0]\n",
      "n_qubits = 4, secret_number = 4, depth = 0, results = [0.118, 0.003, 0.002, 0.0, 0.856, 0.013, 0.008, 0.0, 0.0, 0.0, 0.0, 0.0, 0.0, 0.0, 0.0, 0.0]\n",
      "n_qubits = 5, secret_number = 13, depth = 0, results = [0.05, 0.041, 0.0, 0.002, 0.011, 0.092, 0.0, 0.004, 0.015, 0.06, 0.001, 0.002, 0.053, 0.656, 0.001, 0.012, 0.0, 0.0, 0.0, 0.0, 0.0, 0.0, 0.0, 0.0, 0.0, 0.0, 0.0, 0.0, 0.0, 0.0, 0.0, 0.0]\n",
      "n_qubits = 5, secret_number = 1, depth = 0, results = [0.112, 0.838, 0.001, 0.013, 0.001, 0.007, 0.0, 0.0, 0.002, 0.026, 0.0, 0.0, 0.0, 0.0, 0.0, 0.0, 0.0, 0.0, 0.0, 0.0, 0.0, 0.0, 0.0, 0.0, 0.0, 0.0, 0.0, 0.0, 0.0, 0.0, 0.0, 0.0]\n",
      "n_qubits = 5, secret_number = 6, depth = 0, results = [0.051, 0.0, 0.11, 0.001, 0.061, 0.0, 0.761, 0.007, 0.0, 0.0, 0.001, 0.0, 0.0, 0.0, 0.008, 0.0, 0.0, 0.0, 0.0, 0.0, 0.0, 0.0, 0.0, 0.0, 0.0, 0.0, 0.0, 0.0, 0.0, 0.0, 0.0, 0.0]\n",
      "n_qubits = 6, secret_number = 1, depth = 0, results = [0.12, 0.814, 0.002, 0.011, 0.003, 0.014, 0.0, 0.0, 0.001, 0.013, 0.0, 0.0, 0.0, 0.0, 0.0, 0.0, 0.001, 0.021, 0.0, 0.0, 0.0, 0.0, 0.0, 0.0, 0.0, 0.0, 0.0, 0.0, 0.0, 0.0, 0.0, 0.0, 0.0, 0.0, 0.0, 0.0, 0.0, 0.0, 0.0, 0.0, 0.0, 0.0, 0.0, 0.0, 0.0, 0.0, 0.0, 0.0, 0.0, 0.0, 0.0, 0.0, 0.0, 0.0, 0.0, 0.0, 0.0, 0.0, 0.0, 0.0, 0.0, 0.0, 0.0, 0.0]\n",
      "n_qubits = 6, secret_number = 19, depth = 0, results = [0.048, 0.041, 0.007, 0.102, 0.0, 0.001, 0.001, 0.0, 0.0, 0.0, 0.0, 0.001, 0.0, 0.0, 0.0, 0.0, 0.009, 0.055, 0.051, 0.658, 0.0, 0.002, 0.001, 0.006, 0.0, 0.001, 0.0, 0.016, 0.0, 0.0, 0.0, 0.0, 0.0, 0.0, 0.0, 0.0, 0.0, 0.0, 0.0, 0.0, 0.0, 0.0, 0.0, 0.0, 0.0, 0.0, 0.0, 0.0, 0.0, 0.0, 0.0, 0.0, 0.0, 0.0, 0.0, 0.0, 0.0, 0.0, 0.0, 0.0, 0.0, 0.0, 0.0, 0.0]\n",
      "n_qubits = 6, secret_number = 7, depth = 0, results = [0.039, 0.04, 0.013, 0.099, 0.007, 0.059, 0.066, 0.639, 0.001, 0.001, 0.0, 0.001, 0.001, 0.0, 0.0, 0.012, 0.002, 0.001, 0.0, 0.002, 0.001, 0.0, 0.001, 0.014, 0.001, 0.0, 0.0, 0.0, 0.0, 0.0, 0.0, 0.0, 0.0, 0.0, 0.0, 0.0, 0.0, 0.0, 0.0, 0.0, 0.0, 0.0, 0.0, 0.0, 0.0, 0.0, 0.0, 0.0, 0.0, 0.0, 0.0, 0.0, 0.0, 0.0, 0.0, 0.0, 0.0, 0.0, 0.0, 0.0, 0.0, 0.0, 0.0, 0.0]\n"
     ]
    }
   ],
   "metadata": {
    "scrolled": false
   }
  },
  {
   "cell_type": "code",
   "execution_count": null,
   "source": [
    "# #%run hidden-shift/qiskit/hs_benchmark.py\r\n",
    "# import sys\r\n",
    "# sys.path.insert(1, \"hidden-shift/qiskit\")\r\n",
    "# import hs_benchmark\r\n",
    "# hs_benchmark.run(min_qubits=min_qubits, max_qubits=max_qubits, max_circuits=max_circuits, num_shots=num_shots,\r\n",
    "#                 backend_id=backend_id, provider_backend=provider_backend,\r\n",
    "#                 hub=hub, group=group, project=project)"
   ],
   "outputs": [],
   "metadata": {
    "scrolled": false
   }
  },
  {
   "cell_type": "code",
   "execution_count": 3,
   "source": [
    "#%run quantum-fourier-transform/qdk/qft_benchmark.py\r\n",
    "import sys\r\n",
    "sys.path.insert(1, \"quantum-fourier-transform/qdk\")\r\n",
    "import qft_benchmark\r\n",
    "qft_benchmark.run(\r\n",
    "    min_qubits=min_qubits, max_qubits=max_qubits,\r\n",
    "    n_shots=num_shots,\r\n",
    "    max_n_circuits=max_circuits\r\n",
    ")"
   ],
   "outputs": [
    {
     "output_type": "stream",
     "name": "stdout",
     "text": [
      "Adding reference to project: c:\\Users\\cgran\\source\\repos\\sri-international\\QC-App-Oriented-Benchmarks\\quantum-fourier-transform\\qdk\\QftBenchmark.csproj\n"
     ]
    },
    {
     "output_type": "display_data",
     "data": {
      "text/plain": [
       "Reloading workspace."
      ],
      "application/x-qsharp-data": "{\"LastUpdated\":\"2021-10-08T21:17:30.0238725-07:00\",\"IsCompleted\":false,\"Description\":\"Reloading workspace\",\"Subtask\":null}"
     },
     "metadata": {}
    },
    {
     "output_type": "stream",
     "name": "stdout",
     "text": [
      "... execution starting at 2021-10-09 04:17:39\n",
      "n_qubits = 2, secret_number = 0, depth = 4, results = [1.0, 0.0, 0.0, 0.0]\n",
      "n_qubits = 2, secret_number = 2, depth = 4, results = [0.0, 0.0, 1.0, 0.0]\n",
      "n_qubits = 2, secret_number = 1, depth = 4, results = [0.0, 1.0, 0.0, 0.0]\n",
      "n_qubits = 3, secret_number = 1, depth = 20, results = [0.0, 1.0, 0.0, 0.0, 0.0, 0.0, 0.0, 0.0]\n",
      "n_qubits = 3, secret_number = 4, depth = 20, results = [0.0, 0.0, 0.0, 0.0, 1.0, 0.0, 0.0, 0.0]\n",
      "n_qubits = 3, secret_number = 3, depth = 20, results = [0.0, 0.0, 0.0, 1.0, 0.0, 0.0, 0.0, 0.0]\n",
      "n_qubits = 4, secret_number = 2, depth = 38, results = [0.0, 0.0, 1.0, 0.0, 0.0, 0.0, 0.0, 0.0, 0.0, 0.0, 0.0, 0.0, 0.0, 0.0, 0.0, 0.0]\n",
      "n_qubits = 4, secret_number = 0, depth = 38, results = [1.0, 0.0, 0.0, 0.0, 0.0, 0.0, 0.0, 0.0, 0.0, 0.0, 0.0, 0.0, 0.0, 0.0, 0.0, 0.0]\n",
      "n_qubits = 4, secret_number = 5, depth = 38, results = [0.0, 0.0, 0.0, 0.0, 0.0, 1.0, 0.0, 0.0, 0.0, 0.0, 0.0, 0.0, 0.0, 0.0, 0.0, 0.0]\n",
      "n_qubits = 5, secret_number = 15, depth = 56, results = [0.0, 0.0, 0.0, 0.0, 0.0, 0.0, 0.0, 0.0, 0.0, 0.0, 0.0, 0.0, 0.0, 0.0, 0.0, 1.0, 0.0, 0.0, 0.0, 0.0, 0.0, 0.0, 0.0, 0.0, 0.0, 0.0, 0.0, 0.0, 0.0, 0.0, 0.0, 0.0]\n",
      "n_qubits = 5, secret_number = 11, depth = 56, results = [0.0, 0.0, 0.0, 0.0, 0.0, 0.0, 0.0, 0.0, 0.0, 0.0, 0.0, 1.0, 0.0, 0.0, 0.0, 0.0, 0.0, 0.0, 0.0, 0.0, 0.0, 0.0, 0.0, 0.0, 0.0, 0.0, 0.0, 0.0, 0.0, 0.0, 0.0, 0.0]\n",
      "n_qubits = 5, secret_number = 8, depth = 56, results = [0.0, 0.0, 0.0, 0.0, 0.0, 0.0, 0.0, 0.0, 1.0, 0.0, 0.0, 0.0, 0.0, 0.0, 0.0, 0.0, 0.0, 0.0, 0.0, 0.0, 0.0, 0.0, 0.0, 0.0, 0.0, 0.0, 0.0, 0.0, 0.0, 0.0, 0.0, 0.0]\n",
      "n_qubits = 6, secret_number = 34, depth = 74, results = [0.0, 0.0, 0.0, 0.0, 0.0, 0.0, 0.0, 0.0, 0.0, 0.0, 0.0, 0.0, 0.0, 0.0, 0.0, 0.0, 0.0, 0.0, 0.0, 0.0, 0.0, 0.0, 0.0, 0.0, 0.0, 0.0, 0.0, 0.0, 0.0, 0.0, 0.0, 0.0, 0.0, 0.0, 1.0, 0.0, 0.0, 0.0, 0.0, 0.0, 0.0, 0.0, 0.0, 0.0, 0.0, 0.0, 0.0, 0.0, 0.0, 0.0, 0.0, 0.0, 0.0, 0.0, 0.0, 0.0, 0.0, 0.0, 0.0, 0.0, 0.0, 0.0, 0.0, 0.0]\n",
      "n_qubits = 6, secret_number = 3, depth = 74, results = [0.0, 0.0, 0.0, 1.0, 0.0, 0.0, 0.0, 0.0, 0.0, 0.0, 0.0, 0.0, 0.0, 0.0, 0.0, 0.0, 0.0, 0.0, 0.0, 0.0, 0.0, 0.0, 0.0, 0.0, 0.0, 0.0, 0.0, 0.0, 0.0, 0.0, 0.0, 0.0, 0.0, 0.0, 0.0, 0.0, 0.0, 0.0, 0.0, 0.0, 0.0, 0.0, 0.0, 0.0, 0.0, 0.0, 0.0, 0.0, 0.0, 0.0, 0.0, 0.0, 0.0, 0.0, 0.0, 0.0, 0.0, 0.0, 0.0, 0.0, 0.0, 0.0, 0.0, 0.0]\n",
      "n_qubits = 6, secret_number = 39, depth = 74, results = [0.0, 0.0, 0.0, 0.0, 0.0, 0.0, 0.0, 0.0, 0.0, 0.0, 0.0, 0.0, 0.0, 0.0, 0.0, 0.0, 0.0, 0.0, 0.0, 0.0, 0.0, 0.0, 0.0, 0.0, 0.0, 0.0, 0.0, 0.0, 0.0, 0.0, 0.0, 0.0, 0.0, 0.0, 0.0, 0.0, 0.0, 0.0, 0.0, 1.0, 0.0, 0.0, 0.0, 0.0, 0.0, 0.0, 0.0, 0.0, 0.0, 0.0, 0.0, 0.0, 0.0, 0.0, 0.0, 0.0, 0.0, 0.0, 0.0, 0.0, 0.0, 0.0, 0.0, 0.0]\n",
      "n_qubits = 7, secret_number = 104, depth = 92, results = [0.0, 0.0, 0.0, 0.0, 0.0, 0.0, 0.0, 0.0, 0.0, 0.0, 0.0, 0.0, 0.0, 0.0, 0.0, 0.0, 0.0, 0.0, 0.0, 0.0, 0.0, 0.0, 0.0, 0.0, 0.0, 0.0, 0.0, 0.0, 0.0, 0.0, 0.0, 0.0, 0.0, 0.0, 0.0, 0.0, 0.0, 0.0, 0.0, 0.0, 0.0, 0.0, 0.0, 0.0, 0.0, 0.0, 0.0, 0.0, 0.0, 0.0, 0.0, 0.0, 0.0, 0.0, 0.0, 0.0, 0.0, 0.0, 0.0, 0.0, 0.0, 0.0, 0.0, 0.0, 0.0, 0.0, 0.0, 0.0, 0.0, 0.0, 0.0, 0.0, 0.0, 0.0, 0.0, 0.0, 0.0, 0.0, 0.0, 0.0, 0.0, 0.0, 0.0, 0.0, 0.0, 0.0, 0.0, 0.0, 0.0, 0.0, 0.0, 0.0, 0.0, 0.0, 0.0, 0.0, 0.0, 0.0, 0.0, 0.0, 0.0, 0.0, 0.0, 0.0, 1.0, 0.0, 0.0, 0.0, 0.0, 0.0, 0.0, 0.0, 0.0, 0.0, 0.0, 0.0, 0.0, 0.0, 0.0, 0.0, 0.0, 0.0, 0.0, 0.0, 0.0, 0.0, 0.0, 0.0]\n",
      "n_qubits = 7, secret_number = 98, depth = 92, results = [0.0, 0.0, 0.0, 0.0, 0.0, 0.0, 0.0, 0.0, 0.0, 0.0, 0.0, 0.0, 0.0, 0.0, 0.0, 0.0, 0.0, 0.0, 0.0, 0.0, 0.0, 0.0, 0.0, 0.0, 0.0, 0.0, 0.0, 0.0, 0.0, 0.0, 0.0, 0.0, 0.0, 0.0, 0.0, 0.0, 0.0, 0.0, 0.0, 0.0, 0.0, 0.0, 0.0, 0.0, 0.0, 0.0, 0.0, 0.0, 0.0, 0.0, 0.0, 0.0, 0.0, 0.0, 0.0, 0.0, 0.0, 0.0, 0.0, 0.0, 0.0, 0.0, 0.0, 0.0, 0.0, 0.0, 0.0, 0.0, 0.0, 0.0, 0.0, 0.0, 0.0, 0.0, 0.0, 0.0, 0.0, 0.0, 0.0, 0.0, 0.0, 0.0, 0.0, 0.0, 0.0, 0.0, 0.0, 0.0, 0.0, 0.0, 0.0, 0.0, 0.0, 0.0, 0.0, 0.0, 0.0, 0.0, 1.0, 0.0, 0.0, 0.0, 0.0, 0.0, 0.0, 0.0, 0.0, 0.0, 0.0, 0.0, 0.0, 0.0, 0.0, 0.0, 0.0, 0.0, 0.0, 0.0, 0.0, 0.0, 0.0, 0.0, 0.0, 0.0, 0.0, 0.0, 0.0, 0.0]\n",
      "n_qubits = 7, secret_number = 28, depth = 92, results = [0.0, 0.0, 0.0, 0.0, 0.0, 0.0, 0.0, 0.0, 0.0, 0.0, 0.0, 0.0, 0.0, 0.0, 0.0, 0.0, 0.0, 0.0, 0.0, 0.0, 0.0, 0.0, 0.0, 0.0, 0.0, 0.0, 0.0, 0.0, 1.0, 0.0, 0.0, 0.0, 0.0, 0.0, 0.0, 0.0, 0.0, 0.0, 0.0, 0.0, 0.0, 0.0, 0.0, 0.0, 0.0, 0.0, 0.0, 0.0, 0.0, 0.0, 0.0, 0.0, 0.0, 0.0, 0.0, 0.0, 0.0, 0.0, 0.0, 0.0, 0.0, 0.0, 0.0, 0.0, 0.0, 0.0, 0.0, 0.0, 0.0, 0.0, 0.0, 0.0, 0.0, 0.0, 0.0, 0.0, 0.0, 0.0, 0.0, 0.0, 0.0, 0.0, 0.0, 0.0, 0.0, 0.0, 0.0, 0.0, 0.0, 0.0, 0.0, 0.0, 0.0, 0.0, 0.0, 0.0, 0.0, 0.0, 0.0, 0.0, 0.0, 0.0, 0.0, 0.0, 0.0, 0.0, 0.0, 0.0, 0.0, 0.0, 0.0, 0.0, 0.0, 0.0, 0.0, 0.0, 0.0, 0.0, 0.0, 0.0, 0.0, 0.0, 0.0, 0.0, 0.0, 0.0, 0.0, 0.0]\n",
      "n_qubits = 8, secret_number = 128, depth = 110, results = [0.0, 0.0, 0.0, 0.0, 0.0, 0.0, 0.0, 0.0, 0.0, 0.0, 0.0, 0.0, 0.0, 0.0, 0.0, 0.0, 0.0, 0.0, 0.0, 0.0, 0.0, 0.0, 0.0, 0.0, 0.0, 0.0, 0.0, 0.0, 0.0, 0.0, 0.0, 0.0, 0.0, 0.0, 0.0, 0.0, 0.0, 0.0, 0.0, 0.0, 0.0, 0.0, 0.0, 0.0, 0.0, 0.0, 0.0, 0.0, 0.0, 0.0, 0.0, 0.0, 0.0, 0.0, 0.0, 0.0, 0.0, 0.0, 0.0, 0.0, 0.0, 0.0, 0.0, 0.0, 0.0, 0.0, 0.0, 0.0, 0.0, 0.0, 0.0, 0.0, 0.0, 0.0, 0.0, 0.0, 0.0, 0.0, 0.0, 0.0, 0.0, 0.0, 0.0, 0.0, 0.0, 0.0, 0.0, 0.0, 0.0, 0.0, 0.0, 0.0, 0.0, 0.0, 0.0, 0.0, 0.0, 0.0, 0.0, 0.0, 0.0, 0.0, 0.0, 0.0, 0.0, 0.0, 0.0, 0.0, 0.0, 0.0, 0.0, 0.0, 0.0, 0.0, 0.0, 0.0, 0.0, 0.0, 0.0, 0.0, 0.0, 0.0, 0.0, 0.0, 0.0, 0.0, 0.0, 0.0, 1.0, 0.0, 0.0, 0.0, 0.0, 0.0, 0.0, 0.0, 0.0, 0.0, 0.0, 0.0, 0.0, 0.0, 0.0, 0.0, 0.0, 0.0, 0.0, 0.0, 0.0, 0.0, 0.0, 0.0, 0.0, 0.0, 0.0, 0.0, 0.0, 0.0, 0.0, 0.0, 0.0, 0.0, 0.0, 0.0, 0.0, 0.0, 0.0, 0.0, 0.0, 0.0, 0.0, 0.0, 0.0, 0.0, 0.0, 0.0, 0.0, 0.0, 0.0, 0.0, 0.0, 0.0, 0.0, 0.0, 0.0, 0.0, 0.0, 0.0, 0.0, 0.0, 0.0, 0.0, 0.0, 0.0, 0.0, 0.0, 0.0, 0.0, 0.0, 0.0, 0.0, 0.0, 0.0, 0.0, 0.0, 0.0, 0.0, 0.0, 0.0, 0.0, 0.0, 0.0, 0.0, 0.0, 0.0, 0.0, 0.0, 0.0, 0.0, 0.0, 0.0, 0.0, 0.0, 0.0, 0.0, 0.0, 0.0, 0.0, 0.0, 0.0, 0.0, 0.0, 0.0, 0.0, 0.0, 0.0, 0.0, 0.0, 0.0, 0.0, 0.0, 0.0, 0.0, 0.0, 0.0, 0.0, 0.0, 0.0, 0.0, 0.0, 0.0, 0.0, 0.0, 0.0, 0.0, 0.0]\n",
      "n_qubits = 8, secret_number = 199, depth = 110, results = [0.0, 0.0, 0.0, 0.0, 0.0, 0.0, 0.0, 0.0, 0.0, 0.0, 0.0, 0.0, 0.0, 0.0, 0.0, 0.0, 0.0, 0.0, 0.0, 0.0, 0.0, 0.0, 0.0, 0.0, 0.0, 0.0, 0.0, 0.0, 0.0, 0.0, 0.0, 0.0, 0.0, 0.0, 0.0, 0.0, 0.0, 0.0, 0.0, 0.0, 0.0, 0.0, 0.0, 0.0, 0.0, 0.0, 0.0, 0.0, 0.0, 0.0, 0.0, 0.0, 0.0, 0.0, 0.0, 0.0, 0.0, 0.0, 0.0, 0.0, 0.0, 0.0, 0.0, 0.0, 0.0, 0.0, 0.0, 0.0, 0.0, 0.0, 0.0, 0.0, 0.0, 0.0, 0.0, 0.0, 0.0, 0.0, 0.0, 0.0, 0.0, 0.0, 0.0, 0.0, 0.0, 0.0, 0.0, 0.0, 0.0, 0.0, 0.0, 0.0, 0.0, 0.0, 0.0, 0.0, 0.0, 0.0, 0.0, 0.0, 0.0, 0.0, 0.0, 0.0, 0.0, 0.0, 0.0, 0.0, 0.0, 0.0, 0.0, 0.0, 0.0, 0.0, 0.0, 0.0, 0.0, 0.0, 0.0, 0.0, 0.0, 0.0, 0.0, 0.0, 0.0, 0.0, 0.0, 0.0, 0.0, 0.0, 0.0, 0.0, 0.0, 0.0, 0.0, 0.0, 0.0, 0.0, 0.0, 0.0, 0.0, 0.0, 0.0, 0.0, 0.0, 0.0, 0.0, 0.0, 0.0, 0.0, 0.0, 0.0, 0.0, 0.0, 0.0, 0.0, 0.0, 0.0, 0.0, 0.0, 0.0, 0.0, 0.0, 0.0, 0.0, 0.0, 0.0, 0.0, 0.0, 0.0, 0.0, 0.0, 0.0, 0.0, 0.0, 0.0, 0.0, 0.0, 0.0, 0.0, 0.0, 0.0, 0.0, 0.0, 0.0, 0.0, 0.0, 0.0, 0.0, 0.0, 0.0, 0.0, 0.0, 0.0, 0.0, 0.0, 0.0, 0.0, 0.0, 1.0, 0.0, 0.0, 0.0, 0.0, 0.0, 0.0, 0.0, 0.0, 0.0, 0.0, 0.0, 0.0, 0.0, 0.0, 0.0, 0.0, 0.0, 0.0, 0.0, 0.0, 0.0, 0.0, 0.0, 0.0, 0.0, 0.0, 0.0, 0.0, 0.0, 0.0, 0.0, 0.0, 0.0, 0.0, 0.0, 0.0, 0.0, 0.0, 0.0, 0.0, 0.0, 0.0, 0.0, 0.0, 0.0, 0.0, 0.0, 0.0, 0.0, 0.0, 0.0, 0.0, 0.0, 0.0, 0.0, 0.0]\n",
      "n_qubits = 8, secret_number = 191, depth = 110, results = [0.0, 0.0, 0.0, 0.0, 0.0, 0.0, 0.0, 0.0, 0.0, 0.0, 0.0, 0.0, 0.0, 0.0, 0.0, 0.0, 0.0, 0.0, 0.0, 0.0, 0.0, 0.0, 0.0, 0.0, 0.0, 0.0, 0.0, 0.0, 0.0, 0.0, 0.0, 0.0, 0.0, 0.0, 0.0, 0.0, 0.0, 0.0, 0.0, 0.0, 0.0, 0.0, 0.0, 0.0, 0.0, 0.0, 0.0, 0.0, 0.0, 0.0, 0.0, 0.0, 0.0, 0.0, 0.0, 0.0, 0.0, 0.0, 0.0, 0.0, 0.0, 0.0, 0.0, 0.0, 0.0, 0.0, 0.0, 0.0, 0.0, 0.0, 0.0, 0.0, 0.0, 0.0, 0.0, 0.0, 0.0, 0.0, 0.0, 0.0, 0.0, 0.0, 0.0, 0.0, 0.0, 0.0, 0.0, 0.0, 0.0, 0.0, 0.0, 0.0, 0.0, 0.0, 0.0, 0.0, 0.0, 0.0, 0.0, 0.0, 0.0, 0.0, 0.0, 0.0, 0.0, 0.0, 0.0, 0.0, 0.0, 0.0, 0.0, 0.0, 0.0, 0.0, 0.0, 0.0, 0.0, 0.0, 0.0, 0.0, 0.0, 0.0, 0.0, 0.0, 0.0, 0.0, 0.0, 0.0, 0.0, 0.0, 0.0, 0.0, 0.0, 0.0, 0.0, 0.0, 0.0, 0.0, 0.0, 0.0, 0.0, 0.0, 0.0, 0.0, 0.0, 0.0, 0.0, 0.0, 0.0, 0.0, 0.0, 0.0, 0.0, 0.0, 0.0, 0.0, 0.0, 0.0, 0.0, 0.0, 0.0, 0.0, 0.0, 0.0, 0.0, 0.0, 0.0, 0.0, 0.0, 0.0, 0.0, 0.0, 0.0, 0.0, 0.0, 0.0, 0.0, 0.0, 0.0, 0.0, 0.0, 0.0, 0.0, 0.0, 0.0, 0.0, 0.0, 0.0, 0.0, 0.0, 0.0, 1.0, 0.0, 0.0, 0.0, 0.0, 0.0, 0.0, 0.0, 0.0, 0.0, 0.0, 0.0, 0.0, 0.0, 0.0, 0.0, 0.0, 0.0, 0.0, 0.0, 0.0, 0.0, 0.0, 0.0, 0.0, 0.0, 0.0, 0.0, 0.0, 0.0, 0.0, 0.0, 0.0, 0.0, 0.0, 0.0, 0.0, 0.0, 0.0, 0.0, 0.0, 0.0, 0.0, 0.0, 0.0, 0.0, 0.0, 0.0, 0.0, 0.0, 0.0, 0.0, 0.0, 0.0, 0.0, 0.0, 0.0, 0.0, 0.0, 0.0, 0.0, 0.0, 0.0, 0.0, 0.0]\n"
     ]
    }
   ],
   "metadata": {
    "scrolled": false
   }
  },
  {
   "cell_type": "code",
   "execution_count": 3,
   "source": [
    "#%run grovers/qdk/grovers_benchmark.py\r\n",
    "import sys\r\n",
    "sys.path.insert(1, \"grovers/qdk\")\r\n",
    "import grover_benchmark\r\n",
    "grover_benchmark.run(\r\n",
    "    min_qubits=2,\r\n",
    "    max_qubits=3,\r\n",
    "    max_n_circuits=100,\r\n",
    "    n_shots=100\r\n",
    ")"
   ],
   "outputs": [
    {
     "output_type": "stream",
     "name": "stdout",
     "text": [
      "... execution starting at 2021-10-12 00:18:15\n",
      "n_qubits = 2, secret_number = 0, depth = 5, results = [0.63, 0.13, 0.17, 0.07]\n",
      "n_qubits = 2, secret_number = 1, depth = 5, results = [0.11, 0.72, 0.07, 0.1]\n",
      "n_qubits = 2, secret_number = 2, depth = 5, results = [0.16, 0.07, 0.6, 0.17]\n",
      "n_qubits = 2, secret_number = 3, depth = 5, results = [0.06, 0.2, 0.09, 0.65]\n",
      "n_qubits = 3, secret_number = 0, depth = 38, results = [0.16, 0.09, 0.16, 0.12, 0.14, 0.16, 0.09, 0.08]\n",
      "n_qubits = 3, secret_number = 1, depth = 38, results = [0.13, 0.17, 0.1, 0.12, 0.08, 0.17, 0.15, 0.08]\n",
      "n_qubits = 3, secret_number = 2, depth = 38, results = [0.09, 0.12, 0.15, 0.13, 0.15, 0.15, 0.09, 0.12]\n",
      "n_qubits = 3, secret_number = 3, depth = 38, results = [0.15, 0.09, 0.09, 0.15, 0.12, 0.13, 0.16, 0.11]\n",
      "n_qubits = 3, secret_number = 4, depth = 38, results = [0.15, 0.16, 0.13, 0.09, 0.18, 0.08, 0.08, 0.13]\n",
      "n_qubits = 3, secret_number = 5, depth = 38, results = [0.11, 0.18, 0.15, 0.1, 0.1, 0.13, 0.1, 0.13]\n",
      "n_qubits = 3, secret_number = 6, depth = 38, results = [0.13, 0.16, 0.15, 0.07, 0.13, 0.11, 0.14, 0.11]\n",
      "n_qubits = 3, secret_number = 7, depth = 38, results = [0.15, 0.16, 0.06, 0.12, 0.11, 0.11, 0.09, 0.2]\n"
     ]
    }
   ],
   "metadata": {
    "scrolled": false
   }
  },
  {
   "cell_type": "code",
   "execution_count": null,
   "source": [
    "#%run phase-estimation/qiskit/pe_benchmark.py\r\n",
    "import sys\r\n",
    "sys.path.insert(1, \"phase-estimation/qiskit\")\r\n",
    "import pe_benchmark\r\n",
    "pe_benchmark.run(min_qubits=min_qubits, max_qubits=max_qubits, max_circuits=max_circuits, num_shots=num_shots,\r\n",
    "                backend_id=backend_id, provider_backend=provider_backend,\r\n",
    "                hub=hub, group=group, project=project)"
   ],
   "outputs": [],
   "metadata": {
    "scrolled": false
   }
  },
  {
   "cell_type": "code",
   "execution_count": null,
   "source": [
    "#%run amplitude-estimation/qiskit/ae_benchmark.py\r\n",
    "import sys\r\n",
    "sys.path.insert(1, \"amplitude-estimation/qiskit\")\r\n",
    "import ae_benchmark\r\n",
    "ae_benchmark.run(min_qubits=min_qubits, max_qubits=max_qubits, max_circuits=max_circuits, num_shots=num_shots,\r\n",
    "                backend_id=backend_id, provider_backend=provider_backend,\r\n",
    "                hub=hub, group=group, project=project)"
   ],
   "outputs": [],
   "metadata": {
    "scrolled": false
   }
  },
  {
   "cell_type": "code",
   "execution_count": null,
   "source": [
    "#%run monte-carlo/qiskit/mc_benchmark.py\r\n",
    "import sys\r\n",
    "sys.path.insert(1, \"monte-carlo/qiskit\")\r\n",
    "import mc_benchmark\r\n",
    "mc_benchmark.run(min_qubits=min_qubits, max_qubits=max_qubits, max_circuits=max_circuits, num_shots=num_shots,\r\n",
    "                backend_id=backend_id, provider_backend=provider_backend,\r\n",
    "                hub=hub, group=group, project=project)"
   ],
   "outputs": [],
   "metadata": {
    "scrolled": false
   }
  },
  {
   "cell_type": "code",
   "execution_count": null,
   "source": [
    "#%run hamiltonian-simulation/qiskit/hamiltonian_simulation_benchmark.py\n",
    "import sys\n",
    "sys.path.insert(1, \"hamiltonian-simulation/qiskit\")\n",
    "import hamiltonian_simulation_benchmark\n",
    "hamiltonian_simulation_benchmark.run(min_qubits=min_qubits, max_qubits=max_qubits,\n",
    "                max_circuits=max_circuits, num_shots=num_shots,\n",
    "                backend_id=backend_id, provider_backend=provider_backend,\n",
    "                hub=hub, group=group, project=project)"
   ],
   "outputs": [],
   "metadata": {
    "scrolled": false
   }
  },
  {
   "cell_type": "code",
   "execution_count": null,
   "source": [
    "#%run vqe/qiskit/vqe_benchmark.py\n",
    "import sys\n",
    "sys.path.insert(1, \"vqe/qiskit\")\n",
    "import vqe_benchmark\n",
    "vqe_num_shots=4098\n",
    "vqe_benchmark.run(min_qubits=min_qubits, max_qubits=max_qubits, max_circuits=max_circuits, num_shots=vqe_num_shots,\n",
    "                method = 1, backend_id=backend_id, provider_backend=provider_backend,\n",
    "                hub=hub, group=group, project=project)"
   ],
   "outputs": [],
   "metadata": {
    "scrolled": false
   }
  },
  {
   "cell_type": "code",
   "execution_count": null,
   "source": [
    "#%run shors/qiskit/shors_benchmark.py\n",
    "import sys\n",
    "sys.path.insert(1, \"shors/qiskit\")\n",
    "import shors_benchmark\n",
    "shors_benchmark.run(min_qubits=min_qubits, max_qubits=max_qubits, max_circuits=1, num_shots=num_shots,\n",
    "                method = 1, backend_id=backend_id, provider_backend=provider_backend,\n",
    "                hub=hub, group=group, project=project)"
   ],
   "outputs": [],
   "metadata": {
    "scrolled": false
   }
  },
  {
   "cell_type": "code",
   "execution_count": null,
   "source": [
    "#%run shors/qiskit/shors_benchmark.py\n",
    "import sys\n",
    "sys.path.insert(1, \"shors/qiskit\")\n",
    "import shors_benchmark\n",
    "shors_benchmark.run(min_qubits=min_qubits, max_qubits=max_qubits, max_circuits=1, num_shots=num_shots,\n",
    "                method = 2, backend_id=backend_id, provider_backend=provider_backend,\n",
    "                hub=hub, group=group, project=project)"
   ],
   "outputs": [],
   "metadata": {
    "scrolled": false
   }
  },
  {
   "cell_type": "code",
   "execution_count": null,
   "source": [
    "import sys\n",
    "sys.path.insert(1, \"_common\")\n",
    "import metrics\n",
    "\n",
    "# metrics.depth_base = 2\n",
    "# metrics.QV = 64\n",
    "# apps = [ \"Hidden Shift\", \"Grover's Search\", \"Quantum Fourier Transform (1)\", \"Hamiltonian Simulation\" ]\n",
    "# backend_id='qasm_simulator'\n",
    "\n",
    "metrics.plot_all_app_metrics(backend_id, do_all_plots=False, include_apps=None)"
   ],
   "outputs": [],
   "metadata": {
    "scrolled": false
   }
  },
  {
   "cell_type": "code",
   "execution_count": null,
   "source": [],
   "outputs": [],
   "metadata": {}
  }
 ],
 "metadata": {
  "kernelspec": {
   "name": "python3",
   "display_name": "Python 3.9.7 64-bit ('qc-app-benchmarks': conda)"
  },
  "language_info": {
   "codemirror_mode": {
    "name": "ipython",
    "version": 3
   },
   "file_extension": ".py",
   "mimetype": "text/x-python",
   "name": "python",
   "nbconvert_exporter": "python",
   "pygments_lexer": "ipython3",
   "version": "3.9.7"
  },
  "interpreter": {
   "hash": "f776607c39e57936bf19b59529a9f6c893db580eabe06d58f4117f24e7723d90"
  }
 },
 "nbformat": 4,
 "nbformat_minor": 4
}