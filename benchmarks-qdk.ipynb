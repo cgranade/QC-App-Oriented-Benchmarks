{
 "cells": [
  {
   "cell_type": "markdown",
   "source": [
    "### QED-C Prototype Benchmarks - Quantum Development Kit Version\r\n",
    "\r\n",
    "The notebook contains a suite of prototype application benchmarks developed using Q# and the Quantum Development Kit, for use with local simulation or Azure Quantum services.\r\n",
    "Configure and run the cell below with the desired execution settings.\r\n",
    "Then execute the remaining cells, each containing one prototype benchmark program."
   ],
   "metadata": {}
  },
  {
   "cell_type": "code",
   "execution_count": null,
   "source": [
    "min_qubits = 2\r\n",
    "max_qubits = 8\r\n",
    "max_circuits = 3\r\n",
    "num_shots = 1000\r\n",
    "\r\n",
    "backend_id=\"qasm_simulator\"\r\n",
    "hub=\"ibm-q\"; group=\"open\"; project=\"main\"\r\n",
    "provider_backend = None"
   ],
   "outputs": [],
   "metadata": {
    "scrolled": true
   }
  },
  {
   "cell_type": "code",
   "execution_count": null,
   "source": [
    "# #%run deutsch-jozsa/qiskit/dj_benchmark.py\r\n",
    "# import sys\r\n",
    "# sys.path.insert(1, \"deutsch-jozsa/qiskit\")\r\n",
    "# import dj_benchmark\r\n",
    "# dj_benchmark.run(min_qubits=min_qubits, max_qubits=max_qubits, max_circuits=max_circuits, num_shots=num_shots,\r\n",
    "#                 backend_id=backend_id, provider_backend=provider_backend,\r\n",
    "#                 hub=hub, group=group, project=project)"
   ],
   "outputs": [],
   "metadata": {
    "scrolled": false
   }
  },
  {
   "cell_type": "code",
   "execution_count": null,
   "source": [
    "# #%run bernstein-vazirani/qiskit/bv_benchmark.py\r\n",
    "# import sys\r\n",
    "# sys.path.insert(1, \"bernstein-vazirani/qiskit\")\r\n",
    "# import bv_benchmark\r\n",
    "# bv_benchmark.run(min_qubits=min_qubits, max_qubits=max_qubits, max_circuits=max_circuits, num_shots=num_shots,\r\n",
    "#                 method = 1, backend_id=backend_id, provider_backend=provider_backend,\r\n",
    "#                 hub=hub, group=group, project=project)"
   ],
   "outputs": [],
   "metadata": {
    "scrolled": false
   }
  },
  {
   "cell_type": "code",
   "execution_count": null,
   "source": [
    "# #%run bernstein-vazirani/qiskit/bv_benchmark.py\r\n",
    "# import sys\r\n",
    "# sys.path.insert(1, \"bernstein-vazirani/qiskit\")\r\n",
    "# import bv_benchmark\r\n",
    "# bv_benchmark.run(min_qubits=min_qubits, max_qubits=max_qubits, max_circuits=max_circuits, num_shots=num_shots,\r\n",
    "#                 method =2, backend_id=backend_id, provider_backend=provider_backend,\r\n",
    "#                 hub=hub, group=group, project=project)"
   ],
   "outputs": [],
   "metadata": {
    "scrolled": false
   }
  },
  {
   "cell_type": "code",
   "execution_count": null,
   "source": [
    "# #%run hidden-shift/qiskit/hs_benchmark.py\r\n",
    "# import sys\r\n",
    "# sys.path.insert(1, \"hidden-shift/qiskit\")\r\n",
    "# import hs_benchmark\r\n",
    "# hs_benchmark.run(min_qubits=min_qubits, max_qubits=max_qubits, max_circuits=max_circuits, num_shots=num_shots,\r\n",
    "#                 backend_id=backend_id, provider_backend=provider_backend,\r\n",
    "#                 hub=hub, group=group, project=project)"
   ],
   "outputs": [],
   "metadata": {
    "scrolled": false
   }
  },
  {
   "cell_type": "code",
   "execution_count": null,
   "source": [
    "#%run quantum-fourier-transform/qdk/qft_benchmark.py\r\n",
    "import sys\r\n",
    "sys.path.insert(1, \"quantum-fourier-transform/qdk\")\r\n",
    "import qft_benchmark\r\n",
    "qft_benchmark.run(\r\n",
    "    min_qubits=min_qubits, max_qubits=max_qubits,\r\n",
    "    secret_number=6\r\n",
    ")"
   ],
   "outputs": [],
   "metadata": {
    "scrolled": false
   }
  },
  {
   "cell_type": "code",
   "execution_count": null,
   "source": [
    "#%run grovers/qiskit/grovers_benchmark.py\r\n",
    "import sys\r\n",
    "sys.path.insert(1, \"grovers/qiskit\")\r\n",
    "import grovers_benchmark\r\n",
    "grovers_benchmark.run(min_qubits=min_qubits, max_qubits=max_qubits, max_circuits=max_circuits, num_shots=num_shots,\r\n",
    "                backend_id=backend_id, provider_backend=provider_backend,\r\n",
    "                hub=hub, group=group, project=project)"
   ],
   "outputs": [],
   "metadata": {
    "scrolled": false
   }
  },
  {
   "cell_type": "code",
   "execution_count": null,
   "source": [
    "#%run phase-estimation/qiskit/pe_benchmark.py\r\n",
    "import sys\r\n",
    "sys.path.insert(1, \"phase-estimation/qiskit\")\r\n",
    "import pe_benchmark\r\n",
    "pe_benchmark.run(min_qubits=min_qubits, max_qubits=max_qubits, max_circuits=max_circuits, num_shots=num_shots,\r\n",
    "                backend_id=backend_id, provider_backend=provider_backend,\r\n",
    "                hub=hub, group=group, project=project)"
   ],
   "outputs": [],
   "metadata": {
    "scrolled": false
   }
  },
  {
   "cell_type": "code",
   "execution_count": null,
   "source": [
    "#%run amplitude-estimation/qiskit/ae_benchmark.py\r\n",
    "import sys\r\n",
    "sys.path.insert(1, \"amplitude-estimation/qiskit\")\r\n",
    "import ae_benchmark\r\n",
    "ae_benchmark.run(min_qubits=min_qubits, max_qubits=max_qubits, max_circuits=max_circuits, num_shots=num_shots,\r\n",
    "                backend_id=backend_id, provider_backend=provider_backend,\r\n",
    "                hub=hub, group=group, project=project)"
   ],
   "outputs": [],
   "metadata": {
    "scrolled": false
   }
  },
  {
   "cell_type": "code",
   "execution_count": null,
   "source": [
    "#%run monte-carlo/qiskit/mc_benchmark.py\r\n",
    "import sys\r\n",
    "sys.path.insert(1, \"monte-carlo/qiskit\")\r\n",
    "import mc_benchmark\r\n",
    "mc_benchmark.run(min_qubits=min_qubits, max_qubits=max_qubits, max_circuits=max_circuits, num_shots=num_shots,\r\n",
    "                backend_id=backend_id, provider_backend=provider_backend,\r\n",
    "                hub=hub, group=group, project=project)"
   ],
   "outputs": [],
   "metadata": {
    "scrolled": false
   }
  },
  {
   "cell_type": "code",
   "execution_count": null,
   "source": [
    "#%run hamiltonian-simulation/qiskit/hamiltonian_simulation_benchmark.py\n",
    "import sys\n",
    "sys.path.insert(1, \"hamiltonian-simulation/qiskit\")\n",
    "import hamiltonian_simulation_benchmark\n",
    "hamiltonian_simulation_benchmark.run(min_qubits=min_qubits, max_qubits=max_qubits,\n",
    "                max_circuits=max_circuits, num_shots=num_shots,\n",
    "                backend_id=backend_id, provider_backend=provider_backend,\n",
    "                hub=hub, group=group, project=project)"
   ],
   "outputs": [],
   "metadata": {
    "scrolled": false
   }
  },
  {
   "cell_type": "code",
   "execution_count": null,
   "source": [
    "#%run vqe/qiskit/vqe_benchmark.py\n",
    "import sys\n",
    "sys.path.insert(1, \"vqe/qiskit\")\n",
    "import vqe_benchmark\n",
    "vqe_num_shots=4098\n",
    "vqe_benchmark.run(min_qubits=min_qubits, max_qubits=max_qubits, max_circuits=max_circuits, num_shots=vqe_num_shots,\n",
    "                method = 1, backend_id=backend_id, provider_backend=provider_backend,\n",
    "                hub=hub, group=group, project=project)"
   ],
   "outputs": [],
   "metadata": {
    "scrolled": false
   }
  },
  {
   "cell_type": "code",
   "execution_count": null,
   "source": [
    "#%run shors/qiskit/shors_benchmark.py\n",
    "import sys\n",
    "sys.path.insert(1, \"shors/qiskit\")\n",
    "import shors_benchmark\n",
    "shors_benchmark.run(min_qubits=min_qubits, max_qubits=max_qubits, max_circuits=1, num_shots=num_shots,\n",
    "                method = 1, backend_id=backend_id, provider_backend=provider_backend,\n",
    "                hub=hub, group=group, project=project)"
   ],
   "outputs": [],
   "metadata": {
    "scrolled": false
   }
  },
  {
   "cell_type": "code",
   "execution_count": null,
   "source": [
    "#%run shors/qiskit/shors_benchmark.py\n",
    "import sys\n",
    "sys.path.insert(1, \"shors/qiskit\")\n",
    "import shors_benchmark\n",
    "shors_benchmark.run(min_qubits=min_qubits, max_qubits=max_qubits, max_circuits=1, num_shots=num_shots,\n",
    "                method = 2, backend_id=backend_id, provider_backend=provider_backend,\n",
    "                hub=hub, group=group, project=project)"
   ],
   "outputs": [],
   "metadata": {
    "scrolled": false
   }
  },
  {
   "cell_type": "code",
   "execution_count": null,
   "source": [
    "import sys\n",
    "sys.path.insert(1, \"_common\")\n",
    "import metrics\n",
    "\n",
    "# metrics.depth_base = 2\n",
    "# metrics.QV = 64\n",
    "# apps = [ \"Hidden Shift\", \"Grover's Search\", \"Quantum Fourier Transform (1)\", \"Hamiltonian Simulation\" ]\n",
    "# backend_id='qasm_simulator'\n",
    "\n",
    "metrics.plot_all_app_metrics(backend_id, do_all_plots=False, include_apps=None)"
   ],
   "outputs": [],
   "metadata": {
    "scrolled": false
   }
  },
  {
   "cell_type": "code",
   "execution_count": null,
   "source": [],
   "outputs": [],
   "metadata": {}
  }
 ],
 "metadata": {
  "kernelspec": {
   "display_name": "Python 3",
   "language": "python",
   "name": "python3"
  },
  "language_info": {
   "codemirror_mode": {
    "name": "ipython",
    "version": 3
   },
   "file_extension": ".py",
   "mimetype": "text/x-python",
   "name": "python",
   "nbconvert_exporter": "python",
   "pygments_lexer": "ipython3",
   "version": "3.8.5"
  }
 },
 "nbformat": 4,
 "nbformat_minor": 4
}